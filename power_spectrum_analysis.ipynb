{
 "cells": [
  {
   "cell_type": "code",
   "execution_count": 1,
   "metadata": {},
   "outputs": [
    {
     "data": {
      "application/javascript": [
       "IPython.notebook.set_autosave_interval(180000)"
      ]
     },
     "metadata": {},
     "output_type": "display_data"
    },
    {
     "name": "stdout",
     "output_type": "stream",
     "text": [
      "Autosaving every 180 seconds\n"
     ]
    },
    {
     "data": {
      "text/html": [
       "<style>.container { width:100% !important; }</style>"
      ],
      "text/plain": [
       "<IPython.core.display.HTML object>"
      ]
     },
     "metadata": {},
     "output_type": "display_data"
    }
   ],
   "source": [
    "%matplotlib tk\n",
    "%autosave 180\n",
    "\n",
    "import numpy as np\n",
    "import datetime as dt\n",
    "import matplotlib.pyplot as plt\n",
    "from IPython.core.display import display, HTML\n",
    "display(HTML(\"<style>.container { width:100% !important; }</style>\"))\n",
    "#from sklearn.discriminant_analysis import LinearDiscriminantAnalysis\n",
    "#from statsmodels import robust\n",
    "import matplotlib.gridspec as gridspec\n",
    "import matplotlib.patches as mpatches\n",
    "import os\n",
    "from matplotlib.path import Path\n",
    "\n",
    "# run pca and visualize\n",
    "import matplotlib.gridspec as gridspec\n",
    "from mpl_toolkits.mplot3d import Axes3D\n",
    "from yass.config import Config\n",
    "from yass.explore.explorers import RecordingExplorer\n",
    "\n",
    "from utility import *\n",
    "\n",
    "\n",
    "colors = [\n",
    "'black','blue','red','green','cyan','magenta','brown','pink',\n",
    "'orange','firebrick','lawngreen','dodgerblue','crimson','orchid','slateblue',\n",
    "'darkgreen','darkorange','indianred','darkviolet','deepskyblue','greenyellow',\n",
    "'peru','cadetblue','forestgreen','slategrey','lightsteelblue','rebeccapurple',\n",
    "'darkmagenta','yellow','hotpink']\n"
   ]
  },
  {
   "cell_type": "code",
   "execution_count": 2,
   "metadata": {
    "scrolled": true
   },
   "outputs": [],
   "source": [
    "# make crop\n",
    "if False:\n",
    "    fname = '/media/cat/10TB/in_vivo/tim/alex/C1/spontaneous/Spontaneous_1iso_150Hz_10000fr_1.npy'\n",
    "    data = np.load(fname)\n",
    "    print (data.shape)\n",
    "    crop (data[:10],fname)\n",
    "\n"
   ]
  },
  {
   "cell_type": "code",
   "execution_count": null,
   "metadata": {},
   "outputs": [],
   "source": [
    "# SVD computation on data"
   ]
  },
  {
   "cell_type": "code",
   "execution_count": null,
   "metadata": {},
   "outputs": [],
   "source": []
  },
  {
   "cell_type": "code",
   "execution_count": 3,
   "metadata": {},
   "outputs": [
    {
     "name": "stdout",
     "output_type": "stream",
     "text": [
      "(16384,)\n",
      "(10001, 128, 128)\n"
     ]
    }
   ],
   "source": [
    "# apply mask to filtered data not raw images\n",
    "if True:\n",
    "    fname = '/media/cat/10TB/in_vivo/tim/alex/C1/spontaneous/Spontaneous_noiso_150Hz_10000fr_5_filtered.npy'\n",
    "    data = np.load(fname)\n",
    "    data_masked = make_mask(data, fname)\n",
    "    print (data_masked.shape)\n",
    "    plt.imshow(data_masked[1000])\n",
    "    plt.show()"
   ]
  },
  {
   "cell_type": "code",
   "execution_count": 11,
   "metadata": {},
   "outputs": [
    {
     "name": "stdout",
     "output_type": "stream",
     "text": [
      "(10001,)\n",
      "(10001,)\n"
     ]
    }
   ],
   "source": [
    "# compute power spectrum\n",
    "# primary area\n",
    "data = data_masked[:,55:60,55:60].mean(1).mean(1)\n",
    "print (data.shape)\n",
    "ps = np.abs(np.fft.fft(data))**2\n",
    "\n",
    "time_step = 1 / 150\n",
    "freqs = np.fft.fftfreq(data.size, time_step)\n",
    "idx = np.argsort(freqs)\n",
    "plt.plot(freqs[idx], ps[idx])\n",
    "\n",
    "# secondary area\n",
    "data = data_masked[:,55:60,25:30].mean(1).mean(1)\n",
    "print (data.shape)\n",
    "ps = np.abs(np.fft.fft(data))**2\n",
    "\n",
    "time_step = 1 / 150\n",
    "freqs = np.fft.fftfreq(data.size, time_step)\n",
    "idx = np.argsort(freqs)\n",
    "\n",
    "plt.plot(freqs[idx], ps[idx])\n",
    "plt.xlim(0,10)\n",
    "plt.show()\n",
    "\n"
   ]
  },
  {
   "cell_type": "code",
   "execution_count": 18,
   "metadata": {},
   "outputs": [
    {
     "name": "stdout",
     "output_type": "stream",
     "text": [
      "0.6068243671424194\n"
     ]
    },
    {
     "data": {
      "text/plain": [
       "[<matplotlib.lines.Line2D at 0x7ffa1eb74eb8>]"
      ]
     },
     "execution_count": 18,
     "metadata": {},
     "output_type": "execute_result"
    }
   ],
   "source": [
    "# compute spectral entropy\n",
    "x = data_masked[:,55:60,55:60].mean(1).mean(1)\n",
    "# Compute and normalize power spectrum\n",
    "from scipy.signal import periodogram, welch\n",
    "sf = 150\n",
    "_, psd = periodogram(x, sf)\n",
    "#_, psd = welch(x, sf, nperseg=None)\n",
    "psd_norm = np.divide(psd, psd.sum())\n",
    "se = -np.multiply(psd_norm, np.log2(psd_norm)).sum()\n",
    "#if normalize:\n",
    "se /= np.log2(psd_norm.size)\n",
    "print (se)\n",
    "plt.plot(psd)\n",
    "plt.show()"
   ]
  },
  {
   "cell_type": "code",
   "execution_count": null,
   "metadata": {},
   "outputs": [],
   "source": []
  },
  {
   "cell_type": "code",
   "execution_count": null,
   "metadata": {},
   "outputs": [],
   "source": []
  },
  {
   "cell_type": "code",
   "execution_count": null,
   "metadata": {},
   "outputs": [],
   "source": []
  },
  {
   "cell_type": "code",
   "execution_count": null,
   "metadata": {},
   "outputs": [],
   "source": []
  },
  {
   "cell_type": "code",
   "execution_count": null,
   "metadata": {},
   "outputs": [],
   "source": []
  },
  {
   "cell_type": "code",
   "execution_count": null,
   "metadata": {},
   "outputs": [],
   "source": []
  }
 ],
 "metadata": {
  "kernelspec": {
   "display_name": "Python 3",
   "language": "python",
   "name": "python3"
  },
  "language_info": {
   "codemirror_mode": {
    "name": "ipython",
    "version": 3
   },
   "file_extension": ".py",
   "mimetype": "text/x-python",
   "name": "python",
   "nbconvert_exporter": "python",
   "pygments_lexer": "ipython3",
   "version": "3.6.1"
  }
 },
 "nbformat": 4,
 "nbformat_minor": 2
}
